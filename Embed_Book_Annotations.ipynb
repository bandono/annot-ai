{
 "cells": [
  {
   "cell_type": "code",
   "execution_count": 17,
   "id": "f69976a2",
   "metadata": {},
   "outputs": [],
   "source": [
    "import os\n",
    "import openai\n",
    "import tiktoken  # for counting tokens\n",
    "import pandas as pd  # for DataFrames to store article sections and embeddings\n",
    "import re\n",
    "import datetime\n",
    "from scipy import spatial  # for calculating vector similarities for search strings_ranked_by_relatedness()"
   ]
  },
  {
   "cell_type": "markdown",
   "id": "e7ebe662",
   "metadata": {},
   "source": [
    "## Env\n",
    "\n",
    "Environment variables:\n",
    "1. opeanAI key\n",
    "   \n",
    "   (before starting jupyter from terminal I use something like)\n",
    "   \n",
    "   ```unset HISTFILE```\n",
    "   \n",
    "   ```export OPENAI_API_KEY=\"some-secret-key-that-you-pay-yes-you-pay\"```\n",
    "   \n",
    "\n",
    "\n",
    "2. path to markdown files\n",
    "3. file logging last import date\n",
    "4. CSV save path for storing embedding result"
   ]
  },
  {
   "cell_type": "code",
   "execution_count": 18,
   "id": "a48b26d5",
   "metadata": {},
   "outputs": [],
   "source": [
    "# 1 \n",
    "client = openai.OpenAI(api_key=(os.environ.get(\"OPENAI_API_KEY\")))\n",
    "\n",
    "# 2\n",
    "# Global variable for markdown folders\n",
    "folder_path = 'my book annotations from the project https://github.com/bandono/kobo-annot-import'\n",
    "\n",
    "# 3\n",
    "# Global variable to store the last import date or last imported file name \n",
    "# used in save_last_import_info() and load_last_import_info()\n",
    "last_import_info_file = \"last_import_info.txt\"\n",
    "\n",
    "# 4\n",
    "CSV_SAVE_PATH = \"data/everfoam_book-annotations_2024.csv\""
   ]
  },
  {
   "cell_type": "markdown",
   "id": "dc2e92b5",
   "metadata": {},
   "source": [
    "Importing with checking on newer files and updated only by comparing date to `last_import_info_file`\n",
    "\n",
    "*Note: to restart allover simply delete that file*"
   ]
  },
  {
   "cell_type": "code",
   "execution_count": 19,
   "id": "79dc9a82",
   "metadata": {},
   "outputs": [],
   "source": [
    "def save_last_import_info(last_import_info):\n",
    "    with open(last_import_info_file, \"w\") as file:\n",
    "        file.write(str(last_import_info))\n",
    "\n",
    "def load_last_import_info():\n",
    "    if os.path.exists(last_import_info_file):\n",
    "        with open(last_import_info_file, \"r\") as file:\n",
    "            return datetime.datetime.fromisoformat(file.read())\n",
    "    else:\n",
    "        return None\n",
    "\n",
    "def remove_fields_from_markdown(markdown_text):\n",
    "    # Remove category field\n",
    "    markdown_text = re.sub(r'^category:\\s*.*$', '', markdown_text, flags=re.MULTILINE)\n",
    "    # Remove UUID field\n",
    "    markdown_text = re.sub(r'^UUID:\\s*.*$', '', markdown_text, flags=re.MULTILINE)\n",
    "    return markdown_text.strip()\n",
    "\n",
    "def import_markdown_files(folder_path):\n",
    "    global last_import_info\n",
    "    \n",
    "    markdown_contents = []\n",
    "    \n",
    "    # Check the last import info\n",
    "    last_import_info = load_last_import_info()\n",
    "    \n",
    "    # If last import info does not exist, import all files\n",
    "    if last_import_info is None:\n",
    "        for filename in os.listdir(folder_path):\n",
    "            if filename.endswith('.md'):\n",
    "                with open(os.path.join(folder_path, filename), 'r', encoding='utf-8') as file:\n",
    "                    markdown_content = file.read()\n",
    "                    if 'status: duplicate' not in markdown_content:\n",
    "                        markdown_content = remove_fields_from_markdown(markdown_content)\n",
    "                        markdown_contents.append(markdown_content)\n",
    "        \n",
    "        # Log the last import date or file name\n",
    "        save_last_import_info(datetime.datetime.now())\n",
    "    \n",
    "    else:\n",
    "        # If last import info exists, import only newer or updated files\n",
    "        for filename in os.listdir(folder_path):\n",
    "            if filename.endswith('.md'):\n",
    "                file_path = os.path.join(folder_path, filename)\n",
    "                last_modified = datetime.datetime.fromtimestamp(os.path.getmtime(file_path))\n",
    "                \n",
    "                # Check if the file has been modified after the last import\n",
    "                if last_modified > last_import_info:\n",
    "                    with open(file_path, 'r', encoding='utf-8') as file:\n",
    "                        markdown_content = file.read()\n",
    "                        if 'status: duplicate' not in markdown_content:\n",
    "                            markdown_content = remove_fields_from_markdown(markdown_content)\n",
    "                            markdown_contents.append(markdown_content)\n",
    "        \n",
    "        # Update the last import date or file name\n",
    "        save_last_import_info(datetime.datetime.now())\n",
    "    \n",
    "    return markdown_contents\n"
   ]
  },
  {
   "cell_type": "markdown",
   "id": "590b6608",
   "metadata": {},
   "source": [
    "## 1. Ingest book-annotations markdown files\n",
    "\n",
    "`# Example usage:`\n",
    "\n",
    "`markdown_contents = import_markdown_files(folder_path)`\n",
    "\n",
    "`# Now you can access each markdown content individually`\n",
    "\n",
    "```for i, content in enumerate(markdown_contents):```\n",
    "\n",
    "```    print(f\"Content of markdown file {i+1}:\\n{content}\\n\")```"
   ]
  },
  {
   "cell_type": "code",
   "execution_count": 20,
   "id": "84418018",
   "metadata": {},
   "outputs": [],
   "source": [
    "markdown_contents = import_markdown_files(folder_path)"
   ]
  },
  {
   "cell_type": "markdown",
   "id": "288d0bf5",
   "metadata": {},
   "source": [
    "\n",
    "## 2.  Embedding using GPT to Dataframe\n",
    "\n",
    "Embedding book annotations using `text-embedding-ada-002`"
   ]
  },
  {
   "cell_type": "markdown",
   "id": "e0e88492",
   "metadata": {},
   "source": [
    "### Alter 1\n",
    "\n",
    "Embedding recalculated from the start.\n",
    "\n",
    "Approach 1 ensures that all embeddings are recalculated and up-to-date, but may be computationally expensive for large number of files"
   ]
  },
  {
   "cell_type": "code",
   "execution_count": 21,
   "id": "3b455bcf",
   "metadata": {},
   "outputs": [],
   "source": [
    "EMBEDDING_MODEL = \"text-embedding-ada-002\"\n",
    "GPT_MODEL = \"gpt-3.5-turbo\"\n",
    "BATCH_SIZE = 1000  # you can submit up to 2048 embedding inputs per request\n",
    "\n",
    "# Calculate embeddings for all Markdown files\n",
    "embeddings = []\n",
    "total_items = len(markdown_contents)\n",
    "for batch_start in range(0, total_items, BATCH_SIZE):\n",
    "    batch_end = min(batch_start + BATCH_SIZE, total_items)\n",
    "    batch = markdown_contents[batch_start:batch_end]\n",
    "    response = client.embeddings.create(model=EMBEDDING_MODEL, input=batch)\n",
    "    batch_embeddings = [e.embedding for e in response.data]\n",
    "    embeddings.extend(batch_embeddings)\n",
    "\n",
    "# Update DataFrame with embeddings\n",
    "df = pd.DataFrame({\"text\": markdown_contents, \"embedding\": embeddings})"
   ]
  },
  {
   "cell_type": "markdown",
   "id": "d831de60",
   "metadata": {},
   "source": [
    "### Alter 2 (to do)\n",
    "\n",
    "Embedding combine with previously generated if there was already previous embbedding.\n",
    "\n",
    "Approach 2 is more efficient for a large DataFrame and only a few newer or updated files.\n"
   ]
  },
  {
   "cell_type": "code",
   "execution_count": 26,
   "id": "f24db7ed",
   "metadata": {},
   "outputs": [],
   "source": [
    "# to do"
   ]
  },
  {
   "cell_type": "markdown",
   "id": "9b7384b5",
   "metadata": {},
   "source": [
    "## 3. Save embedding to CSV file\n",
    "\n",
    "For small data saving the embedding to CSV file should be OK. "
   ]
  },
  {
   "cell_type": "code",
   "execution_count": 22,
   "id": "fe5beee0",
   "metadata": {},
   "outputs": [],
   "source": [
    "# save document embeddings\n",
    "\n",
    "df.to_csv(CSV_SAVE_PATH, index=False)"
   ]
  },
  {
   "cell_type": "markdown",
   "id": "466a840e",
   "metadata": {},
   "source": [
    "## 4. Just to test the embedding no need to run\n",
    "\n",
    "Just simple function to test the embedding"
   ]
  },
  {
   "cell_type": "code",
   "execution_count": 23,
   "id": "b171614f",
   "metadata": {},
   "outputs": [],
   "source": [
    "# search function\n",
    "def strings_ranked_by_relatedness(\n",
    "    query: str,\n",
    "    df: pd.DataFrame,\n",
    "    relatedness_fn=lambda x, y: 1 - spatial.distance.cosine(x, y),\n",
    "    top_n: int = 100\n",
    ") -> tuple[list[str], list[float]]:\n",
    "    \"\"\"Returns a list of strings and relatednesses, sorted from most related to least.\"\"\"\n",
    "    query_embedding_response = client.embeddings.create(\n",
    "        model=EMBEDDING_MODEL,\n",
    "        input=query,\n",
    "    )\n",
    "    query_embedding = query_embedding_response.data[0].embedding\n",
    "    strings_and_relatednesses = [\n",
    "        (row[\"text\"], relatedness_fn(query_embedding, row[\"embedding\"]))\n",
    "        for i, row in df.iterrows()\n",
    "    ]\n",
    "    strings_and_relatednesses.sort(key=lambda x: x[1], reverse=True)\n",
    "    strings, relatednesses = zip(*strings_and_relatednesses)\n",
    "    return strings[:top_n], relatednesses[:top_n]"
   ]
  },
  {
   "cell_type": "code",
   "execution_count": null,
   "id": "65086c26",
   "metadata": {},
   "outputs": [],
   "source": [
    "# examples\n",
    "strings, relatednesses = strings_ranked_by_relatedness(\"overwork\", df, top_n=5)\n",
    "for string, relatedness in zip(strings, relatednesses):\n",
    "    print(f\"{relatedness=:.3f}\")\n",
    "    display(string)"
   ]
  }
 ],
 "metadata": {
  "kernelspec": {
   "display_name": "Python 3 (ipykernel)",
   "language": "python",
   "name": "python3"
  },
  "language_info": {
   "codemirror_mode": {
    "name": "ipython",
    "version": 3
   },
   "file_extension": ".py",
   "mimetype": "text/x-python",
   "name": "python",
   "nbconvert_exporter": "python",
   "pygments_lexer": "ipython3",
   "version": "3.9.6"
  }
 },
 "nbformat": 4,
 "nbformat_minor": 5
}
